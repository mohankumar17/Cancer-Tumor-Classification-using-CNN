{
 "cells": [
  {
   "cell_type": "code",
   "execution_count": 7,
   "metadata": {},
   "outputs": [],
   "source": [
    "import numpy as np\n",
    "import tensorflow\n",
    "import keras\n",
    "from keras.models import Sequential "
   ]
  },
  {
   "cell_type": "code",
   "execution_count": 8,
   "metadata": {},
   "outputs": [],
   "source": [
    "cnn_model=Sequential()"
   ]
  },
  {
   "cell_type": "code",
   "execution_count": 9,
   "metadata": {},
   "outputs": [],
   "source": [
    "from keras.layers import Dropout,Dense,Conv2D,MaxPooling2D,Flatten\n",
    "from keras.preprocessing.image import ImageDataGenerator\n",
    "train_datagen=ImageDataGenerator(rescale=1./255,shear_range=0.2,zoom_range=0.2,horizontal_flip=True)"
   ]
  },
  {
   "cell_type": "code",
   "execution_count": 13,
   "metadata": {},
   "outputs": [
    {
     "name": "stdout",
     "output_type": "stream",
     "text": [
      "Found 2258 images belonging to 2 classes.\n"
     ]
    }
   ],
   "source": [
    "x_train=train_datagen.flow_from_directory(r\"D:\\Project_AI\\data\\data\",target_size=(64,64),batch_size=32,class_mode='binary')"
   ]
  },
  {
   "cell_type": "code",
   "execution_count": 14,
   "metadata": {},
   "outputs": [
    {
     "name": "stderr",
     "output_type": "stream",
     "text": [
      "D:\\Prog_files\\lib\\site-packages\\ipykernel_launcher.py:1: UserWarning: Update your `Conv2D` call to the Keras 2 API: `Conv2D(32, (3, 3), input_shape=(64, 64, 3..., activation=\"relu\")`\n",
      "  \"\"\"Entry point for launching an IPython kernel.\n"
     ]
    }
   ],
   "source": [
    "cnn_model.add(Conv2D(32,3,3,input_shape=(64,64,3),activation='relu'))\n",
    "cnn_model.add(MaxPooling2D(pool_size=(2,2)))\n",
    "#cnn_model.add(Dropout(0.25))\n",
    "cnn_model.add(Flatten())\n",
    "\n",
    "#hidden layer\n",
    "cnn_model.add(Dense(128,activation='relu'))\n",
    "cnn_model.add(Dense(128,activation='relu'))\n",
    "cnn_model.add(Dense(128,activation='relu'))\n",
    "cnn_model.add(Dense(128,activation='relu'))\n",
    "#output layer\n",
    "cnn_model.add(Dense(1,activation='sigmoid'))"
   ]
  },
  {
   "cell_type": "code",
   "execution_count": 15,
   "metadata": {},
   "outputs": [],
   "source": [
    "cnn_model.compile(loss=\"binary_crossentropy\",optimizer='adam',metrics=['accuracy'])"
   ]
  },
  {
   "cell_type": "code",
   "execution_count": 16,
   "metadata": {},
   "outputs": [
    {
     "name": "stderr",
     "output_type": "stream",
     "text": [
      "D:\\Prog_files\\lib\\site-packages\\ipykernel_launcher.py:1: UserWarning: The semantics of the Keras 2 argument `steps_per_epoch` is not the same as the Keras 1 argument `samples_per_epoch`. `steps_per_epoch` is the number of batches to draw from the generator at each epoch. Basically steps_per_epoch = samples_per_epoch/batch_size. Similarly `nb_val_samples`->`validation_steps` and `val_samples`->`steps` arguments have changed. Update your method calls accordingly.\n",
      "  \"\"\"Entry point for launching an IPython kernel.\n",
      "D:\\Prog_files\\lib\\site-packages\\ipykernel_launcher.py:1: UserWarning: Update your `fit_generator` call to the Keras 2 API: `fit_generator(<keras_pre..., epochs=10, steps_per_epoch=312, validation_steps=400)`\n",
      "  \"\"\"Entry point for launching an IPython kernel.\n"
     ]
    },
    {
     "name": "stdout",
     "output_type": "stream",
     "text": [
      "Epoch 1/10\n",
      "312/312 [==============================] - 34s 109ms/step - loss: 0.6332 - acc: 0.6515\n",
      "Epoch 2/10\n",
      "312/312 [==============================] - 23s 75ms/step - loss: 0.5583 - acc: 0.7157 0s - loss: 0.5587 - acc: 0.\n",
      "Epoch 3/10\n",
      "312/312 [==============================] - 21s 66ms/step - loss: 0.5374 - acc: 0.7316 0s - loss: 0.5400\n",
      "Epoch 4/10\n",
      "312/312 [==============================] - 21s 67ms/step - loss: 0.5023 - acc: 0.7510\n",
      "Epoch 5/10\n",
      "312/312 [==============================] - 21s 67ms/step - loss: 0.4940 - acc: 0.7599\n",
      "Epoch 6/10\n",
      "312/312 [==============================] - 21s 68ms/step - loss: 0.4565 - acc: 0.7792\n",
      "Epoch 7/10\n",
      "312/312 [==============================] - 21s 66ms/step - loss: 0.4258 - acc: 0.7966 0s - loss: 0.427\n",
      "Epoch 8/10\n",
      "312/312 [==============================] - 21s 68ms/step - loss: 0.4072 - acc: 0.8140\n",
      "Epoch 9/10\n",
      "312/312 [==============================] - 21s 68ms/step - loss: 0.3776 - acc: 0.8317\n",
      "Epoch 10/10\n",
      "312/312 [==============================] - 22s 70ms/step - loss: 0.3450 - acc: 0.8485\n"
     ]
    },
    {
     "data": {
      "text/plain": [
       "<keras.callbacks.History at 0x2a7fb0c0748>"
      ]
     },
     "execution_count": 16,
     "metadata": {},
     "output_type": "execute_result"
    }
   ],
   "source": [
    "cnn_model.fit_generator(x_train,samples_per_epoch=10000,epochs=10,nb_val_samples=100)"
   ]
  },
  {
   "cell_type": "code",
   "execution_count": 17,
   "metadata": {},
   "outputs": [],
   "source": [
    "cnn_model.save('cancer_classification_model.h5')"
   ]
  },
  {
   "cell_type": "code",
   "execution_count": 18,
   "metadata": {},
   "outputs": [],
   "source": [
    "from skimage.transform import resize"
   ]
  },
  {
   "cell_type": "code",
   "execution_count": 19,
   "metadata": {},
   "outputs": [],
   "source": [
    "import cv2"
   ]
  },
  {
   "cell_type": "code",
   "execution_count": 26,
   "metadata": {},
   "outputs": [],
   "source": [
    "frame=cv2.imread(r\"D:\\Project_AI\\data\\data\\malignant\\23.jpg\")"
   ]
  },
  {
   "cell_type": "code",
   "execution_count": 27,
   "metadata": {},
   "outputs": [
    {
     "name": "stdout",
     "output_type": "stream",
     "text": [
      "[[0.99999034]]\n",
      "malignant\n"
     ]
    },
    {
     "name": "stderr",
     "output_type": "stream",
     "text": [
      "D:\\Prog_files\\lib\\site-packages\\skimage\\transform\\_warps.py:84: UserWarning: The default mode, 'constant', will be changed to 'reflect' in skimage 0.15.\n",
      "  warn(\"The default mode, 'constant', will be changed to 'reflect' in \"\n"
     ]
    }
   ],
   "source": [
    "try:\n",
    "    img=resize(frame,(64,64))\n",
    "    img=np.expand_dims(img,axis=0)\n",
    "        \n",
    "    if(np.max(img)>1):\n",
    "        img=img/255.0\n",
    "            \n",
    "    prediction=cnn_model.predict(img)\n",
    "    print(prediction)\n",
    "        \n",
    "    if prediction>=0.5:\n",
    "        classp='malignant'\n",
    "    else:\n",
    "        classp='begnin'\n",
    "    print(classp)    \n",
    "except AttributeError:\n",
    "    print('Shape not found')"
   ]
  },
  {
   "cell_type": "code",
   "execution_count": 30,
   "metadata": {},
   "outputs": [
    {
     "name": "stdout",
     "output_type": "stream",
     "text": [
      "[[0]]\n",
      "[[1]]\n",
      "[[1]]\n"
     ]
    }
   ],
   "source": [
    "import numpy as np\n",
    "from keras.preprocessing import image\n",
    "\n",
    "from tkinter import *\n",
    "from PIL import ImageTk, Image\n",
    "from tkinter import filedialog\n",
    "import os\n",
    "from keras.models import load_model\n",
    "classifier = load_model('cancer_classification_model.h5')\n",
    "classifier.compile(optimizer = 'adam', loss = 'binary_crossentropy', metrics = ['accuracy'])\n",
    "root = Tk()\n",
    "root.geometry(\"550x300+300+150\")\n",
    "root.resizable(width=True, height=True)\n",
    "\n",
    "def openfn():\n",
    "    filename = filedialog.askopenfilename(title='open')\n",
    "    return filename\n",
    "def open_img():\n",
    "    x = openfn()\n",
    "    test_image = image.load_img(x, target_size = (64, 64))\n",
    "    test_image = image.img_to_array(test_image)\n",
    "    test_image = np.expand_dims(test_image, axis = 0)\n",
    "    result = classifier.predict_classes(test_image)\n",
    "    print(result)\n",
    "    index=[\"Benign\",\"Malignant\"]\n",
    "    label = Label( root, text=\"Prediction : \"+index[result[0][0]])\n",
    "    label.pack()\n",
    "    img = Image.open(x)\n",
    "    img = img.resize((250, 250), Image.ANTIALIAS)\n",
    "    img = ImageTk.PhotoImage(img)\n",
    "    panel = Label(root, image=img)\n",
    "    panel.image = img\n",
    "    panel.pack()\n",
    "\n",
    "btn = Button(root, text='open image', command=open_img).pack()\n",
    "\n",
    "root.mainloop()\n",
    "\n"
   ]
  },
  {
   "cell_type": "code",
   "execution_count": null,
   "metadata": {},
   "outputs": [],
   "source": []
  }
 ],
 "metadata": {
  "kernelspec": {
   "display_name": "Python 3",
   "language": "python",
   "name": "python3"
  },
  "language_info": {
   "codemirror_mode": {
    "name": "ipython",
    "version": 3
   },
   "file_extension": ".py",
   "mimetype": "text/x-python",
   "name": "python",
   "nbconvert_exporter": "python",
   "pygments_lexer": "ipython3",
   "version": "3.6.5"
  }
 },
 "nbformat": 4,
 "nbformat_minor": 1
}
