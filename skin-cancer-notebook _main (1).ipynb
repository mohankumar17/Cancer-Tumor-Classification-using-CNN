{
 "cells": [
  {
   "cell_type": "code",
   "execution_count": 1,
   "metadata": {},
   "outputs": [
    {
     "name": "stderr",
     "output_type": "stream",
     "text": [
      "D:\\Prog_files\\lib\\site-packages\\h5py\\__init__.py:36: FutureWarning: Conversion of the second argument of issubdtype from `float` to `np.floating` is deprecated. In future, it will be treated as `np.float64 == np.dtype(float).type`.\n",
      "  from ._conv import register_converters as _register_converters\n",
      "Using TensorFlow backend.\n"
     ]
    }
   ],
   "source": [
    "import numpy as np\n",
    "import tensorflow\n",
    "import keras\n",
    "from keras.models import Sequential "
   ]
  },
  {
   "cell_type": "code",
   "execution_count": 2,
   "metadata": {},
   "outputs": [],
   "source": [
    "cnn_model=Sequential()"
   ]
  },
  {
   "cell_type": "code",
   "execution_count": 3,
   "metadata": {},
   "outputs": [],
   "source": [
    "from keras.layers import Dropout,Dense,Conv2D,MaxPooling2D,Flatten\n",
    "from keras.preprocessing.image import ImageDataGenerator\n",
    "train_datagen=ImageDataGenerator(rescale=1./255,shear_range=0.2,zoom_range=0.2,horizontal_flip=True)"
   ]
  },
  {
   "cell_type": "code",
   "execution_count": 4,
   "metadata": {},
   "outputs": [
    {
     "name": "stdout",
     "output_type": "stream",
     "text": [
      "Found 2258 images belonging to 2 classes.\n"
     ]
    }
   ],
   "source": [
    "x_train=train_datagen.flow_from_directory(r\"D:\\Project_AI\\data\\data\",target_size=(64,64),batch_size=32,class_mode='binary')"
   ]
  },
  {
   "cell_type": "code",
   "execution_count": 5,
   "metadata": {},
   "outputs": [
    {
     "name": "stderr",
     "output_type": "stream",
     "text": [
      "D:\\Prog_files\\lib\\site-packages\\ipykernel_launcher.py:1: UserWarning: Update your `Conv2D` call to the Keras 2 API: `Conv2D(32, (3, 3), input_shape=(64, 64, 3..., activation=\"relu\")`\n",
      "  \"\"\"Entry point for launching an IPython kernel.\n"
     ]
    }
   ],
   "source": [
    "cnn_model.add(Conv2D(32,3,3,input_shape=(64,64,3),activation='relu'))\n",
    "cnn_model.add(MaxPooling2D(pool_size=(2,2)))\n",
    "#cnn_model.add(Dropout(0.25))\n",
    "cnn_model.add(Flatten())\n",
    "\n",
    "#hidden layer\n",
    "cnn_model.add(Dense(128,activation='relu'))\n",
    "cnn_model.add(Dense(128,activation='relu'))\n",
    "cnn_model.add(Dense(128,activation='relu'))\n",
    "cnn_model.add(Dense(128,activation='relu'))\n",
    "#output layer\n",
    "cnn_model.add(Dense(1,activation='sigmoid'))"
   ]
  },
  {
   "cell_type": "code",
   "execution_count": 6,
   "metadata": {},
   "outputs": [],
   "source": [
    "cnn_model.compile(loss=\"binary_crossentropy\",optimizer='adam',metrics=['accuracy'])"
   ]
  },
  {
   "cell_type": "code",
   "execution_count": 7,
   "metadata": {},
   "outputs": [
    {
     "name": "stderr",
     "output_type": "stream",
     "text": [
      "D:\\Prog_files\\lib\\site-packages\\ipykernel_launcher.py:1: UserWarning: The semantics of the Keras 2 argument `steps_per_epoch` is not the same as the Keras 1 argument `samples_per_epoch`. `steps_per_epoch` is the number of batches to draw from the generator at each epoch. Basically steps_per_epoch = samples_per_epoch/batch_size. Similarly `nb_val_samples`->`validation_steps` and `val_samples`->`steps` arguments have changed. Update your method calls accordingly.\n",
      "  \"\"\"Entry point for launching an IPython kernel.\n",
      "D:\\Prog_files\\lib\\site-packages\\ipykernel_launcher.py:1: UserWarning: Update your `fit_generator` call to the Keras 2 API: `fit_generator(<keras_pre..., epochs=20, steps_per_epoch=312, validation_steps=100)`\n",
      "  \"\"\"Entry point for launching an IPython kernel.\n"
     ]
    },
    {
     "name": "stdout",
     "output_type": "stream",
     "text": [
      "Epoch 1/20\n",
      "312/312 [==============================] - 66s 212ms/step - loss: 0.6284 - acc: 0.6552\n",
      "Epoch 2/20\n",
      "312/312 [==============================] - 170s 544ms/step - loss: 0.5650 - acc: 0.7107\n",
      "Epoch 3/20\n",
      "312/312 [==============================] - 38s 122ms/step - loss: 0.5457 - acc: 0.7290\n",
      "Epoch 4/20\n",
      "312/312 [==============================] - 32s 103ms/step - loss: 0.5134 - acc: 0.7500\n",
      "Epoch 5/20\n",
      "312/312 [==============================] - 35s 112ms/step - loss: 0.4930 - acc: 0.7604\n",
      "Epoch 6/20\n",
      "312/312 [==============================] - 31s 99ms/step - loss: 0.4773 - acc: 0.7758\n",
      "Epoch 7/20\n",
      "312/312 [==============================] - 35s 114ms/step - loss: 0.4574 - acc: 0.7880\n",
      "Epoch 8/20\n",
      "312/312 [==============================] - 39s 125ms/step - loss: 0.4272 - acc: 0.8047\n",
      "Epoch 9/20\n",
      "312/312 [==============================] - 34s 110ms/step - loss: 0.4101 - acc: 0.8121\n",
      "Epoch 10/20\n",
      "312/312 [==============================] - 40s 129ms/step - loss: 0.3743 - acc: 0.8355\n",
      "Epoch 11/20\n",
      "312/312 [==============================] - 33s 106ms/step - loss: 0.3583 - acc: 0.8389\n",
      "Epoch 12/20\n",
      "312/312 [==============================] - 34s 109ms/step - loss: 0.3190 - acc: 0.8631\n",
      "Epoch 13/20\n",
      "312/312 [==============================] - 36s 115ms/step - loss: 0.3042 - acc: 0.8716\n",
      "Epoch 14/20\n",
      "312/312 [==============================] - 34s 110ms/step - loss: 0.2815 - acc: 0.8817\n",
      "Epoch 15/20\n",
      "312/312 [==============================] - 38s 120ms/step - loss: 0.2566 - acc: 0.8944\n",
      "Epoch 16/20\n",
      "312/312 [==============================] - 39s 126ms/step - loss: 0.2422 - acc: 0.9009\n",
      "Epoch 17/20\n",
      "312/312 [==============================] - 38s 121ms/step - loss: 0.2297 - acc: 0.9097\n",
      "Epoch 18/20\n",
      "312/312 [==============================] - 49s 156ms/step - loss: 0.1940 - acc: 0.9210\n",
      "Epoch 19/20\n",
      "312/312 [==============================] - 91s 292ms/step - loss: 0.1862 - acc: 0.9267\n",
      "Epoch 20/20\n",
      "312/312 [==============================] - 32s 101ms/step - loss: 0.1631 - acc: 0.9356\n"
     ]
    },
    {
     "data": {
      "text/plain": [
       "<keras.callbacks.History at 0x1590c4e8d30>"
      ]
     },
     "execution_count": 7,
     "metadata": {},
     "output_type": "execute_result"
    }
   ],
   "source": [
    "cnn_model.fit_generator(x_train,samples_per_epoch=10000,epochs=20,nb_val_samples=100)"
   ]
  },
  {
   "cell_type": "code",
   "execution_count": 8,
   "metadata": {},
   "outputs": [],
   "source": [
    "cnn_model.save('cancer_classification_model.h5')"
   ]
  },
  {
   "cell_type": "code",
   "execution_count": 11,
   "metadata": {},
   "outputs": [
    {
     "name": "stdout",
     "output_type": "stream",
     "text": [
      "[[1]]\n"
     ]
    }
   ],
   "source": [
    "import numpy as np\n",
    "from keras.preprocessing import image\n",
    "\n",
    "from tkinter import *\n",
    "from PIL import ImageTk, Image\n",
    "from tkinter import filedialog\n",
    "import os\n",
    "from keras.models import load_model\n",
    "classifier = load_model('cancer_classification_model.h5')\n",
    "classifier.compile(optimizer = 'adam', loss = 'binary_crossentropy', metrics = ['accuracy'])\n",
    "root = Tk()\n",
    "root.geometry(\"550x300+300+150\")\n",
    "root.resizable(width=True, height=True)\n",
    "\n",
    "def openfn():\n",
    "    filename = filedialog.askopenfilename(title='open')\n",
    "    return filename\n",
    "def open_img():\n",
    "    x = openfn()\n",
    "    test_image = image.load_img(x, target_size = (64, 64))\n",
    "    test_image = image.img_to_array(test_image)\n",
    "    test_image = np.expand_dims(test_image, axis = 0)\n",
    "    result = classifier.predict_classes(test_image)\n",
    "    print(result)\n",
    "    index=[\"Benign\",\"Malignant\"]\n",
    "    label = Label( root, text=\"Prediction : \"+index[result[0][0]])\n",
    "    label.pack()\n",
    "    img = Image.open(x)\n",
    "    img = img.resize((250, 250), Image.ANTIALIAS)\n",
    "    img = ImageTk.PhotoImage(img)\n",
    "    panel = Label(root, image=img)\n",
    "    panel.image = img\n",
    "    panel.pack()\n",
    "\n",
    "btn = Button(root, text='open image', command=open_img).pack()\n",
    "\n",
    "root.mainloop()\n",
    "\n"
   ]
  },
  {
   "cell_type": "code",
   "execution_count": 21,
   "metadata": {},
   "outputs": [],
   "source": []
  },
  {
   "cell_type": "code",
   "execution_count": 22,
   "metadata": {},
   "outputs": [],
   "source": []
  },
  {
   "cell_type": "code",
   "execution_count": null,
   "metadata": {},
   "outputs": [],
   "source": []
  },
  {
   "cell_type": "code",
   "execution_count": null,
   "metadata": {},
   "outputs": [],
   "source": []
  }
 ],
 "metadata": {
  "kernelspec": {
   "display_name": "Python 3",
   "language": "python",
   "name": "python3"
  },
  "language_info": {
   "codemirror_mode": {
    "name": "ipython",
    "version": 3
   },
   "file_extension": ".py",
   "mimetype": "text/x-python",
   "name": "python",
   "nbconvert_exporter": "python",
   "pygments_lexer": "ipython3",
   "version": "3.6.5"
  }
 },
 "nbformat": 4,
 "nbformat_minor": 1
}
